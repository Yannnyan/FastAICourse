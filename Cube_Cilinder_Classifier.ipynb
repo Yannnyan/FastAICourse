{
  "cells": [
    {
      "cell_type": "markdown",
      "metadata": {
        "id": "view-in-github",
        "colab_type": "text"
      },
      "source": [
        "<a href=\"https://colab.research.google.com/github/Yannnyan/FastAICourse/blob/main/Cube_Cilinder_Classifier.ipynb\" target=\"_parent\"><img src=\"https://colab.research.google.com/assets/colab-badge.svg\" alt=\"Open In Colab\"/></a>"
      ]
    },
    {
      "cell_type": "code",
      "execution_count": null,
      "id": "2f6ebfa3-c2b7-4bd5-9130-1b1066394343",
      "metadata": {
        "id": "2f6ebfa3-c2b7-4bd5-9130-1b1066394343",
        "colab": {
          "base_uri": "https://localhost:8080/"
        },
        "outputId": "b4b2e128-1f41-45ae-9780-c3037ba65d65"
      },
      "outputs": [
        {
          "output_type": "stream",
          "name": "stderr",
          "text": [
            "/usr/local/lib/python3.8/dist-packages/PIL/TiffImagePlugin.py:788: UserWarning: Corrupt EXIF data.  Expecting to read 4 bytes but only got 2. \n",
            "  warnings.warn(str(msg))\n",
            "/usr/local/lib/python3.8/dist-packages/PIL/TiffImagePlugin.py:788: UserWarning: Corrupt EXIF data.  Expecting to read 4 bytes but only got 2. \n",
            "  warnings.warn(str(msg))\n",
            "/usr/local/lib/python3.8/dist-packages/PIL/TiffImagePlugin.py:788: UserWarning: Corrupt EXIF data.  Expecting to read 4 bytes but only got 2. \n",
            "  warnings.warn(str(msg))\n",
            "/usr/local/lib/python3.8/dist-packages/PIL/TiffImagePlugin.py:788: UserWarning: Corrupt EXIF data.  Expecting to read 4 bytes but only got 2. \n",
            "  warnings.warn(str(msg))\n",
            "/usr/local/lib/python3.8/dist-packages/PIL/TiffImagePlugin.py:788: UserWarning: Corrupt EXIF data.  Expecting to read 4 bytes but only got 2. \n",
            "  warnings.warn(str(msg))\n",
            "/usr/local/lib/python3.8/dist-packages/PIL/TiffImagePlugin.py:788: UserWarning: Corrupt EXIF data.  Expecting to read 4 bytes but only got 2. \n",
            "  warnings.warn(str(msg))\n",
            "/usr/local/lib/python3.8/dist-packages/PIL/TiffImagePlugin.py:788: UserWarning: Corrupt EXIF data.  Expecting to read 4 bytes but only got 2. \n",
            "  warnings.warn(str(msg))\n",
            "/usr/local/lib/python3.8/dist-packages/PIL/TiffImagePlugin.py:788: UserWarning: Corrupt EXIF data.  Expecting to read 4 bytes but only got 2. \n",
            "  warnings.warn(str(msg))\n"
          ]
        }
      ],
      "source": [
        "from duckduckgo_search import ddg_images\n",
        "from fastcore.all import *\n",
        "def search_images(term, max_images=200): return L(ddg_images(term, max_results=max_images)).itemgot('image')\n",
        "from fastdownload import download_url\n",
        "from fastai.vision.all import *\n",
        "cilinder_urls = search_images('cilinder', 10)\n",
        "cube_urls = search_images('cube', 10)\n",
        "cube_urls[0]\n",
        "from fastdownload import download_url\n",
        "searches = 'cube', 'cilinder'\n",
        "path = Path('cube_or_cilinder')\n",
        "for search in searches:\n",
        "  for i in range(10):\n",
        "      dest = (path/search)\n",
        "      dest.mkdir(exist_ok=True, parents=True)\n",
        "      download_images(dest, urls=search_images(f'{search} photo'))\n",
        "      resize_images(path/search, max_size=400, dest=path/search)"
      ]
    },
    {
      "cell_type": "code",
      "source": [
        "failed = verify_images(get_image_files(path))\n",
        "failed.map(Path.unlink)\n",
        "len(failed)    "
      ],
      "metadata": {
        "id": "y63_1S3P84_x"
      },
      "id": "y63_1S3P84_x",
      "execution_count": null,
      "outputs": []
    },
    {
      "cell_type": "code",
      "execution_count": null,
      "id": "bcc09e72-8982-46b9-8b84-b9f3e588c487",
      "metadata": {
        "id": "bcc09e72-8982-46b9-8b84-b9f3e588c487"
      },
      "outputs": [],
      "source": [
        "   !pip install -Uqq fastai\n",
        "   !pip install -Uqq duckduckgo_search"
      ]
    },
    {
      "cell_type": "code",
      "source": [
        "dls = DataBlock(\n",
        "  blocks=(ImageBlock, CategoryBlock), \n",
        "  get_items=get_image_files, \n",
        "  splitter=RandomSplitter(valid_pct=0.2, seed=42),\n",
        "  get_y=parent_label,\n",
        "  item_tfms=[Resize(192, method='squish')]\n",
        ").dataloaders(path)\n",
        "\n",
        "dls.show_batch(max_n=10)\n"
      ],
      "metadata": {
        "id": "xvfEbE6axH3A"
      },
      "id": "xvfEbE6axH3A",
      "execution_count": null,
      "outputs": []
    },
    {
      "cell_type": "code",
      "source": [
        "learn = vision_learner(dls, resnet18, metrics=error_rate)\n",
        "learn.fine_tune(3)"
      ],
      "metadata": {
        "id": "HdsPbR3e9k2_"
      },
      "id": "HdsPbR3e9k2_",
      "execution_count": null,
      "outputs": []
    },
    {
      "cell_type": "code",
      "source": [
        "name = 'cube.jpg'\n",
        "download_url(url=cube_urls[0],dest=name)\n",
        "Image.open(name).to_thumb(256,256)"
      ],
      "metadata": {
        "id": "zlSCWAiMHmIj"
      },
      "id": "zlSCWAiMHmIj",
      "execution_count": null,
      "outputs": []
    },
    {
      "cell_type": "code",
      "source": [
        "is_cube,_, prob = learn.predict(PILImage.create(name))\n",
        "print(f\"This is a: {is_cube}\")\n",
        "print(f\"Probability it's a cube: {prob[0]}\")"
      ],
      "metadata": {
        "id": "zq8K099WILmT"
      },
      "id": "zq8K099WILmT",
      "execution_count": null,
      "outputs": []
    },
    {
      "cell_type": "code",
      "source": [
        "name = 'test.jpeg'\n",
        "Image.open(name).to_thumb(256,256)"
      ],
      "metadata": {
        "id": "cD2UdsrHJl4z"
      },
      "id": "cD2UdsrHJl4z",
      "execution_count": null,
      "outputs": []
    },
    {
      "cell_type": "code",
      "source": [
        "is_cube,_, prob = learn.predict(PILImage.create(name))\n",
        "print(f\"This is a: {is_cube}\")\n",
        "print(f\"Probability it's a cube: {prob[0]}\")"
      ],
      "metadata": {
        "id": "e9-z0m3RJi_e"
      },
      "id": "e9-z0m3RJi_e",
      "execution_count": null,
      "outputs": []
    },
    {
      "cell_type": "code",
      "source": [
        "learn.export()"
      ],
      "metadata": {
        "id": "FquQsmEvCZEs"
      },
      "id": "FquQsmEvCZEs",
      "execution_count": null,
      "outputs": []
    }
  ],
  "metadata": {
    "kernelspec": {
      "display_name": "Python 3 (ipykernel)",
      "language": "python",
      "name": "python3"
    },
    "language_info": {
      "codemirror_mode": {
        "name": "ipython",
        "version": 3
      },
      "file_extension": ".py",
      "mimetype": "text/x-python",
      "name": "python",
      "nbconvert_exporter": "python",
      "pygments_lexer": "ipython3",
      "version": "3.10.0"
    },
    "colab": {
      "provenance": [],
      "include_colab_link": true
    }
  },
  "nbformat": 4,
  "nbformat_minor": 5
}